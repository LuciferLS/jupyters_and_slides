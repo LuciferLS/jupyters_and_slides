{
 "cells": [
  {
   "cell_type": "markdown",
   "metadata": {},
   "source": [
    "## Assignments for Week-02"
   ]
  },
  {
   "cell_type": "markdown",
   "metadata": {},
   "source": [
    "In this course, we learnt what's the search problem and what's the machine leanring. In this assignment, we need you do some more practice."
   ]
  },
  {
   "cell_type": "markdown",
   "metadata": {},
   "source": [
    "### 1. Re-code the house price machine learning\n",
    "\n",
    "###### 1. Random Choose Method to get optimal *k* and *b*\n",
    "###### 2.Supervised Direction to get optimal *k* and *b*\n",
    "###### 3.Gradient Descent to get optimal *k* and *b*\n",
    "###### 4. Try different Loss function and learning rate. \n",
    "\n",
    "For example, you can change the loss function: $Loss = \\frac{1}{n} sum({y_i - \\hat{y_i}})^2$ to $Loss = \\frac{1}{n} sum(|{y_i - \\hat{y_i}}|)$\n",
    "\n",
    "And you can change the learning rate and observe the performance."
   ]
  },
  {
   "cell_type": "markdown",
   "metadata": {},
   "source": [
    "![](https://timgsa.baidu.com/timg?image&quality=80&size=b9999_10000&sec=1562414412237&di=8377c38d7b50c6f8d45b92ccc78dc1e7&imgtype=0&src=http%3A%2F%2Fmmbiz.qpic.cn%2Fmmbiz_jpg%2FlSyiavfm6wPgQDuDYa42IMgSkLOcPJU91RbkMibGy7VHLrhhNVLibTYk1iaLcmXKTdHc4icTDVia59QFXwqpW8cLflaw%2F640%3Fwx_fmt%3Djpeg)"
   ]
  },
  {
   "cell_type": "markdown",
   "metadata": {},
   "source": [
    "## 2. Answer following questions:\n",
    "\n",
    "\n",
    "###### 1. Why do we need machine learning methods instead of creating a complicated formula?\n"
   ]
  },
  {
   "cell_type": "markdown",
   "metadata": {},
   "source": [
    "Ans: 机器学习可以简化代码，并且可以解决复杂函数无法解决的问题，还可以适应新的数据变化。"
   ]
  },
  {
   "cell_type": "markdown",
   "metadata": {},
   "source": [
    "###### 2.  Wha't's the disadvantages of `the 1st Random Choosen` methods in our course? "
   ]
  },
  {
   "cell_type": "markdown",
   "metadata": {},
   "source": [
    "Ans: 盲目选择参数，导致需要消耗较长的时间得到较好的结果。"
   ]
  },
  {
   "cell_type": "markdown",
   "metadata": {},
   "source": [
    "###### 3. Is the `2nd method supervised direction` better than 1st one?  What's the disadvantages of `the 2nd supversied directin` method? "
   ]
  },
  {
   "cell_type": "markdown",
   "metadata": {},
   "source": [
    "Ans: 是的。当系数较多时，方向空间较大，需要花更多时间选择正确方向。"
   ]
  },
  {
   "cell_type": "markdown",
   "metadata": {},
   "source": [
    "###### 4. Why do we use `Derivative / Gredient` to fit a target function? "
   ]
  },
  {
   "cell_type": "markdown",
   "metadata": {},
   "source": [
    "Ans:"
   ]
  },
  {
   "cell_type": "markdown",
   "metadata": {},
   "source": [
    "###### 5. In the words 'Gredient Descent', what's the `Gredient` and what's the `Descent`?"
   ]
  },
  {
   "cell_type": "markdown",
   "metadata": {},
   "source": [
    "Ans:"
   ]
  },
  {
   "cell_type": "markdown",
   "metadata": {},
   "source": [
    "###### 6. What's the advantages of `the 3rd gradient descent method` compared to the previous methods?"
   ]
  },
  {
   "cell_type": "markdown",
   "metadata": {},
   "source": [
    "Ans:"
   ]
  },
  {
   "cell_type": "markdown",
   "metadata": {},
   "source": [
    "###### 7. Using the simple words to describe: What's the machine leanring."
   ]
  },
  {
   "cell_type": "markdown",
   "metadata": {},
   "source": [
    "Ans:"
   ]
  },
  {
   "cell_type": "markdown",
   "metadata": {},
   "source": [
    "## 3. Finish the search problem"
   ]
  },
  {
   "cell_type": "markdown",
   "metadata": {},
   "source": [
    "Please using the search policy to implement an agent. This agent receives two input, one is @param start station and the other is @param destination. Your agent should give the optimal route based on Beijing Subway system. "
   ]
  },
  {
   "cell_type": "markdown",
   "metadata": {},
   "source": [
    "> Deadline: 2019-July-13\n",
    "\n",
    ">Submit: Submit the source code and result to github. \n",
    "\n"
   ]
  },
  {
   "cell_type": "markdown",
   "metadata": {},
   "source": [
    "![](https://timgsa.baidu.com/timg?image&quality=80&size=b9999_10000&sec=1562414356407&di=b57814aafd215bb8b8d9d8cd37c573d6&imgtype=0&src=http%3A%2F%2Fcli.clewm.net%2Ffile%2F2015%2F03%2F24%2F174ed60082b8422ac0636cfd3efb9e7f.jpg)"
   ]
  },
  {
   "cell_type": "markdown",
   "metadata": {},
   "source": [
    "#### Dataflow: "
   ]
  },
  {
   "cell_type": "markdown",
   "metadata": {},
   "source": [
    "##### 1.\tGet data from web page.\n",
    "\n",
    "> a.\tGet web page source from: https://baike.baidu.com/item/%E5%8C%97%E4%BA%AC%E5%9C%B0%E9%93%81/408485\n",
    "\n",
    "> b.\tYou may need @package **requests**[https://2.python-requests.org/en/master/] page to get the response via url\n",
    "\n",
    "> c.\tYou may need save the page source to file system.\n",
    "\n",
    "> d.\tThe target of this step is to get station information of all the subway lines;\n",
    "\n",
    "> e.\tYou may need install @package beautiful soup[https://www.crummy.com/software/BeautifulSoup/bs4/doc/]  to get the url information, or just use > Regular Expression to get the url.  Our recommendation is that using the Regular Expression and BeautiflSoup both. \n",
    "\n",
    "> f.\tYou may need BFS to get all the related page url from one url. \n",
    "Question: Why do we use BFS to traverse web page (or someone said, build a web spider)?  Can DFS do this job? which is better? "
   ]
  },
  {
   "cell_type": "code",
   "execution_count": 4,
   "metadata": {},
   "outputs": [],
   "source": [
    "import requests\n",
    "import re"
   ]
  },
  {
   "cell_type": "code",
   "execution_count": 21,
   "metadata": {
    "scrolled": true
   },
   "outputs": [
    {
     "name": "stdout",
     "output_type": "stream",
     "text": [
      "['苹果园――古城', '古城――八角游乐园', '八角游乐园――八宝山', '八宝山――玉泉路', '玉泉路――五棵松', '五棵松――万寿路', '万寿路――公主坟', '公主坟――军事博物馆', '军事博物馆――木樨地', '木樨地――南礼士路', '南礼士路――复兴门', '复兴门――西单', '西单――天安门西', '天安门西――天安门东', '天安门东――王府井', '王府井――东单', '东单――建国门', '建国门――永安里', '永安里――国贸', '国贸――大望路', '大望路――四惠', '四惠――四惠东', '西直门――车公庄', '车公庄――阜成门', '阜成门――复兴门', '复兴门――长椿街', '长椿街――宣武门', '宣武门――和平门', '和平门――前门', '前门――崇文门', '崇文门――北京站', '北京站――建国门', '建国门――朝阳门', '朝阳门――东四十条', '东四十条――东直门', '东直门――雍和宫', '雍和宫――安定门', '安定门――鼓楼大街', '鼓楼大街――积水潭', '积水潭――西直门', '安河桥北――北宫门', '北宫门――西苑', '西苑――圆明园', '圆明园――北京大学东门', '北京大学东门――中关村', '中关村――海淀黄庄', '海淀黄庄――人民大学', '人民大学――魏公村', '魏公村――国家图书馆', '国家图书馆――动物园', '动物园――西直门', '西直门――新街口', '新街口――平安里', '平安里――西四', '西四――灵境胡同', '灵境胡同――西单', '西单――宣武门', '宣武门――菜市口', '菜市口――陶然亭', '陶然亭――北京南站', '北京南站――马家堡', '马家堡――角门西', '角门西――公益西桥', '天通苑北――天通苑', '天通苑――天通苑南', '天通苑南――立水桥', '立水桥――立水桥南', '立水桥南――北苑路北', '北苑路北――大屯路东', '大屯路东――惠新西街北口', '惠新西街北口――惠新西街南口', '惠新西街南口――和平西桥', '和平西桥――和平里北街', '和平里北街――雍和宫', '雍和宫――北新桥', '北新桥――张自忠路', '张自忠路――东四', '东四――灯市口', '灯市口――东单', '东单――崇文门', '崇文门――磁器口', '磁器口――天坛东门', '天坛东门――蒲黄榆', '蒲黄榆――刘家窑', '刘家窑――宋家庄', '海淀五路居――慈寿寺', '慈寿寺――花园桥', '花园桥――白石桥南', '白石桥南――车公庄西', '车公庄西――车公庄', '车公庄――平安里', '平安里――北海北', '北海北――南锣鼓巷', '南锣鼓巷――东四', '东四――朝阳门', '朝阳门――东大桥', '东大桥――呼家楼', '呼家楼――金台路', '金台路――十里堡', '十里堡――青年路', '青年路――褡裢坡', '褡裢坡――黄渠', '黄渠――常营', '常营――草房', '草房――物资学院路', '物资学院路――通州北关', '通州北关――通运门', '通运门――北运河西', '北运河西――北运河东', '北运河东――郝家府', '郝家府――东夏园', '东夏园――潞城', '北京西站――湾子', '湾子――达官营', '达官营――广安门内', '广安门内――菜市口', '菜市口――虎坊桥', '虎坊桥――珠市口', '珠市口――桥湾', '桥湾――磁器口', '磁器口――广渠门内', '广渠门内――广渠门外', '广渠门外――双井', '双井――九龙山', '九龙山――大郊亭', '大郊亭――百子湾', '百子湾――化工', '化工――南楼梓庄', '南楼梓庄――欢乐谷景区', '欢乐谷景区――垡头', '垡头――双合', '双合――焦化厂', '朱辛庄――育知路', '育知路――平西府', '平西府――回龙观东大街', '回龙观东大街――霍营', '霍营――育新', '育新――西小口', '西小口――永泰庄', '永泰庄――林萃桥', '林萃桥――森林公园南门', '森林公园南门――奥林匹克公园', '奥林匹克公园――奥体中心', '奥体中心――北土城', '北土城――安华桥', '安华桥――安德里北街', '安德里北街――鼓楼大街', '鼓楼大街――什刹海', '什刹海――南锣鼓巷', '国家图书馆――白石桥南', '白石桥南――白堆子', '白堆子――军事博物馆', '军事博物馆――北京西站', '北京西站――六里桥东', '六里桥东――六里桥', '六里桥――七里庄', '七里庄――丰台东大街', '丰台东大街――丰台南路', '丰台南路――科怡路', '科怡路――丰台科技园', '丰台科技园――郭公庄', '巴沟――苏州街', '苏州街――海淀黄庄', '海淀黄庄――知春里', '知春里――知春路', '知春路――西土城', '西土城――牡丹园', '牡丹园――健德门', '健德门――北土城', '北土城――安贞门', '安贞门――惠新西街南口', '惠新西街南口――芍药居', '芍药居――太阳宫', '太阳宫――三元桥', '三元桥――亮马桥', '亮马桥――农业展览馆', '农业展览馆――团结湖', '团结湖――呼家楼', '呼家楼――金台夕照', '金台夕照――国贸', '国贸――双井', '双井――劲松', '劲松――潘家园', '潘家园――十里河', '十里河――分钟寺', '分钟寺――成寿寺', '成寿寺――宋家庄', '宋家庄――石榴庄', '石榴庄――大红门', '大红门――角门东', '角门东――角门西', '角门西――草桥', '草桥――纪家庙', '纪家庙――首经贸', '首经贸――丰台站', '丰台站――泥洼', '泥洼――西局', '西局――六里桥', '六里桥――莲花桥', '莲花桥――公主坟', '公主坟――西钓鱼台', '西钓鱼台――慈寿寺', '慈寿寺――车道沟', '车道沟――长春桥', '长春桥――火器营', '火器营――巴沟', '西直门――大钟寺', '大钟寺――知春路', '知春路――五道口', '五道口――上地', '上地――西二旗', '西二旗――龙泽', '龙泽――回龙观', '回龙观――霍营', '霍营――立水桥', '立水桥――北苑', '北苑――望京西', '望京西――芍药居', '芍药居――光熙门', '光熙门――柳芳', '柳芳――东直门', '张郭庄――园博园', '园博园――大瓦窑', '大瓦窑――郭庄子', '郭庄子――大井', '大井――七里庄', '七里庄――西局', '北京南站――陶然桥', '陶然桥――永定门外', '永定门外――景泰', '景泰――蒲黄榆', '蒲黄榆――方庄', '方庄――十里河', '十里河――南八里庄', '南八里庄――北工大西门', '北工大西门――平乐园', '平乐园――九龙山', '九龙山――大望路', '大望路――红庙', '红庙――金台路', '金台路――朝阳公园', '朝阳公园――枣营', '枣营――东风北桥', '东风北桥――将台', '将台――高家园', '高家园――望京南', '望京南――阜通', '阜通――望京', '望京――东湖渠', '东湖渠――来广营', '来广营――善各庄', '清华东路西口――六道口', '六道口――北沙滩', '北沙滩――奥林匹克公园', '奥林匹克公园――安立路', '安立路――大屯路东', '大屯路东――关庄', '关庄――望京西', '望京西――望京', '望京――望京东', '望京东――崔各庄', '崔各庄――马泉营', '马泉营――孙河', '孙河――国展', '国展――花梨坎', '花梨坎――后沙峪', '后沙峪――南法信', '南法信――石门', '石门――顺义', '顺义――俸伯', '四惠――四惠东', '四惠东――高碑店', '高碑店――传媒大学', '传媒大学――双桥', '双桥――管庄', '管庄――八里桥', '八里桥――通州北苑', '通州北苑――果园', '果园――九棵树', '九棵树――梨园', '梨园――临河里', '临河里――土桥', '昌平西山口――十三陵景区', '十三陵景区――昌平', '昌平――昌平东关', '昌平东关――北邵洼', '北邵洼――南邵', '南邵――沙河高教园', '沙河高教园――沙河', '沙河――巩华城', '巩华城――朱辛庄', '朱辛庄――生命科学园', '生命科学园――西二旗', '宋家庄――肖村', '肖村――小红门', '小红门――旧宫', '旧宫――亦庄桥', '亦庄桥――亦庄文化园', '亦庄文化园――万源街', '万源街――荣京东街', '荣京东街――荣昌东街', '荣昌东街――同济南路', '同济南路――经海路', '经海路――次渠南', '次渠南――次渠', '公益西桥――新宫', '新宫――西红门', '西红门――高米店北', '高米店北――高米店南', '高米店南――枣园', '枣园――清源路', '清源路――黄村西大街', '黄村西大街――黄村火车站', '黄村火车站――义和庄', '义和庄――生物医药基地', '生物医药基地――天宫院', '郭公庄――大葆台', '大葆台――稻田', '稻田――长阳', '长阳――篱笆房', '篱笆房――广阳城', '广阳城――良乡大学城北', '良乡大学城北――良乡大学城', '良乡大学城――良乡大学城西', '良乡大学城西――良乡南关', '良乡南关――苏庄', '东直门――三元桥', '三元桥――T3航站楼', 'T3航站楼――T2航站楼', 'T2航站楼――三元桥']\n"
     ]
    }
   ],
   "source": [
    "url = 'http://www.bjsubway.com/station/zjgls/#'\n",
    "response = requests.get(url)                     #获取网页\n",
    "response.encoding = response.apparent_encoding   #使用与网页相同的编码格式\n",
    "what_we_want = r\"<th>(.*)</th>\"                  #寻找站点间是否相连的模式\n",
    "pattern = re.compile(what_we_want)               \n",
    "edges = pattern.findall(response.text)           #返回包含所有相连站点的数组\n",
    "\n",
    "print(edges)"
   ]
  },
  {
   "cell_type": "markdown",
   "metadata": {},
   "source": [
    "##### 2.\tPreprocessing data from page source.\n",
    "\n",
    "> a.\tBased on the page source gotten from url. You may need some more preprocessing of the page. \n",
    "\n",
    "> b.\tthe Regular Expression you may need to process the text information.\n",
    "\n",
    "> c.\tYou may need @package networkx, @package matplotlib to visualize data. \n",
    "\n",
    "> d.\tYou should build a dictionary or graph which could represent the connection information of Beijing subway routes. \n",
    "\n",
    "> e.\tYou may need the defaultdict, set data structures to implement this procedure. "
   ]
  },
  {
   "cell_type": "code",
   "execution_count": 50,
   "metadata": {},
   "outputs": [
    {
     "ename": "ModuleNotFoundError",
     "evalue": "No module named 'Quene'",
     "output_type": "error",
     "traceback": [
      "\u001b[1;31m---------------------------------------------------------------------------\u001b[0m",
      "\u001b[1;31mModuleNotFoundError\u001b[0m                       Traceback (most recent call last)",
      "\u001b[1;32m<ipython-input-50-db2537f9e0ec>\u001b[0m in \u001b[0;36m<module>\u001b[1;34m\u001b[0m\n\u001b[0;32m      1\u001b[0m \u001b[1;32mfrom\u001b[0m \u001b[0mcollections\u001b[0m \u001b[1;32mimport\u001b[0m \u001b[0mdefaultdict\u001b[0m\u001b[1;33m\u001b[0m\u001b[1;33m\u001b[0m\u001b[0m\n\u001b[1;32m----> 2\u001b[1;33m \u001b[1;32mimport\u001b[0m \u001b[0mQuene\u001b[0m\u001b[1;33m\u001b[0m\u001b[1;33m\u001b[0m\u001b[0m\n\u001b[0m",
      "\u001b[1;31mModuleNotFoundError\u001b[0m: No module named 'Quene'"
     ]
    }
   ],
   "source": [
    "from collections import defaultdict"
   ]
  },
  {
   "cell_type": "code",
   "execution_count": 35,
   "metadata": {},
   "outputs": [],
   "source": [
    "#建立一个键为站点，值为连接该站点的所有站点的列表的字典\n",
    "station_connection = defaultdict(list)\n",
    "\n",
    "for edge in edges:\n",
    "    connection = edge.split('――')\n",
    "    if connection[1] not in station_connection[connection[0]]:\n",
    "        station_connection[connection[0]].append(connection[1])\n",
    "    if connection[0] not in station_connection[connection[1]]:\n",
    "        station_connection[connection[1]].append(connection[0])"
   ]
  },
  {
   "cell_type": "code",
   "execution_count": 36,
   "metadata": {
    "scrolled": true
   },
   "outputs": [
    {
     "data": {
      "text/plain": [
       "defaultdict(list,\n",
       "            {'苹果园': ['古城'],\n",
       "             '古城': ['苹果园', '八角游乐园'],\n",
       "             '八角游乐园': ['古城', '八宝山'],\n",
       "             '八宝山': ['八角游乐园', '玉泉路'],\n",
       "             '玉泉路': ['八宝山', '五棵松'],\n",
       "             '五棵松': ['玉泉路', '万寿路'],\n",
       "             '万寿路': ['五棵松', '公主坟'],\n",
       "             '公主坟': ['万寿路', '军事博物馆', '莲花桥', '西钓鱼台'],\n",
       "             '军事博物馆': ['公主坟', '木樨地', '白堆子', '北京西站'],\n",
       "             '木樨地': ['军事博物馆', '南礼士路'],\n",
       "             '南礼士路': ['木樨地', '复兴门'],\n",
       "             '复兴门': ['南礼士路', '西单', '阜成门', '长椿街'],\n",
       "             '西单': ['复兴门', '天安门西', '灵境胡同', '宣武门'],\n",
       "             '天安门西': ['西单', '天安门东'],\n",
       "             '天安门东': ['天安门西', '王府井'],\n",
       "             '王府井': ['天安门东', '东单'],\n",
       "             '东单': ['王府井', '建国门', '灯市口', '崇文门'],\n",
       "             '建国门': ['东单', '永安里', '北京站', '朝阳门'],\n",
       "             '永安里': ['建国门', '国贸'],\n",
       "             '国贸': ['永安里', '大望路', '金台夕照', '双井'],\n",
       "             '大望路': ['国贸', '四惠', '九龙山', '红庙'],\n",
       "             '四惠': ['大望路', '四惠东'],\n",
       "             '四惠东': ['四惠', '高碑店'],\n",
       "             '西直门': ['车公庄', '积水潭', '动物园', '新街口', '大钟寺'],\n",
       "             '车公庄': ['西直门', '阜成门', '车公庄西', '平安里'],\n",
       "             '阜成门': ['车公庄', '复兴门'],\n",
       "             '长椿街': ['复兴门', '宣武门'],\n",
       "             '宣武门': ['长椿街', '和平门', '西单', '菜市口'],\n",
       "             '和平门': ['宣武门', '前门'],\n",
       "             '前门': ['和平门', '崇文门'],\n",
       "             '崇文门': ['前门', '北京站', '东单', '磁器口'],\n",
       "             '北京站': ['崇文门', '建国门'],\n",
       "             '朝阳门': ['建国门', '东四十条', '东四', '东大桥'],\n",
       "             '东四十条': ['朝阳门', '东直门'],\n",
       "             '东直门': ['东四十条', '雍和宫', '柳芳', '三元桥'],\n",
       "             '雍和宫': ['东直门', '安定门', '和平里北街', '北新桥'],\n",
       "             '安定门': ['雍和宫', '鼓楼大街'],\n",
       "             '鼓楼大街': ['安定门', '积水潭', '安德里北街', '什刹海'],\n",
       "             '积水潭': ['鼓楼大街', '西直门'],\n",
       "             '安河桥北': ['北宫门'],\n",
       "             '北宫门': ['安河桥北', '西苑'],\n",
       "             '西苑': ['北宫门', '圆明园'],\n",
       "             '圆明园': ['西苑', '北京大学东门'],\n",
       "             '北京大学东门': ['圆明园', '中关村'],\n",
       "             '中关村': ['北京大学东门', '海淀黄庄'],\n",
       "             '海淀黄庄': ['中关村', '人民大学', '苏州街', '知春里'],\n",
       "             '人民大学': ['海淀黄庄', '魏公村'],\n",
       "             '魏公村': ['人民大学', '国家图书馆'],\n",
       "             '国家图书馆': ['魏公村', '动物园', '白石桥南'],\n",
       "             '动物园': ['国家图书馆', '西直门'],\n",
       "             '新街口': ['西直门', '平安里'],\n",
       "             '平安里': ['新街口', '西四', '车公庄', '北海北'],\n",
       "             '西四': ['平安里', '灵境胡同'],\n",
       "             '灵境胡同': ['西四', '西单'],\n",
       "             '菜市口': ['宣武门', '陶然亭', '广安门内', '虎坊桥'],\n",
       "             '陶然亭': ['菜市口', '北京南站'],\n",
       "             '北京南站': ['陶然亭', '马家堡', '陶然桥'],\n",
       "             '马家堡': ['北京南站', '角门西'],\n",
       "             '角门西': ['马家堡', '公益西桥', '角门东', '草桥'],\n",
       "             '公益西桥': ['角门西', '新宫'],\n",
       "             '天通苑北': ['天通苑'],\n",
       "             '天通苑': ['天通苑北', '天通苑南'],\n",
       "             '天通苑南': ['天通苑', '立水桥'],\n",
       "             '立水桥': ['天通苑南', '立水桥南', '霍营', '北苑'],\n",
       "             '立水桥南': ['立水桥', '北苑路北'],\n",
       "             '北苑路北': ['立水桥南', '大屯路东'],\n",
       "             '大屯路东': ['北苑路北', '惠新西街北口', '安立路', '关庄'],\n",
       "             '惠新西街北口': ['大屯路东', '惠新西街南口'],\n",
       "             '惠新西街南口': ['惠新西街北口', '和平西桥', '安贞门', '芍药居'],\n",
       "             '和平西桥': ['惠新西街南口', '和平里北街'],\n",
       "             '和平里北街': ['和平西桥', '雍和宫'],\n",
       "             '北新桥': ['雍和宫', '张自忠路'],\n",
       "             '张自忠路': ['北新桥', '东四'],\n",
       "             '东四': ['张自忠路', '灯市口', '南锣鼓巷', '朝阳门'],\n",
       "             '灯市口': ['东四', '东单'],\n",
       "             '磁器口': ['崇文门', '天坛东门', '桥湾', '广渠门内'],\n",
       "             '天坛东门': ['磁器口', '蒲黄榆'],\n",
       "             '蒲黄榆': ['天坛东门', '刘家窑', '景泰', '方庄'],\n",
       "             '刘家窑': ['蒲黄榆', '宋家庄'],\n",
       "             '宋家庄': ['刘家窑', '成寿寺', '石榴庄', '肖村'],\n",
       "             '海淀五路居': ['慈寿寺'],\n",
       "             '慈寿寺': ['海淀五路居', '花园桥', '西钓鱼台', '车道沟'],\n",
       "             '花园桥': ['慈寿寺', '白石桥南'],\n",
       "             '白石桥南': ['花园桥', '车公庄西', '国家图书馆', '白堆子'],\n",
       "             '车公庄西': ['白石桥南', '车公庄'],\n",
       "             '北海北': ['平安里', '南锣鼓巷'],\n",
       "             '南锣鼓巷': ['北海北', '东四', '什刹海'],\n",
       "             '东大桥': ['朝阳门', '呼家楼'],\n",
       "             '呼家楼': ['东大桥', '金台路', '团结湖', '金台夕照'],\n",
       "             '金台路': ['呼家楼', '十里堡', '红庙', '朝阳公园'],\n",
       "             '十里堡': ['金台路', '青年路'],\n",
       "             '青年路': ['十里堡', '褡裢坡'],\n",
       "             '褡裢坡': ['青年路', '黄渠'],\n",
       "             '黄渠': ['褡裢坡', '常营'],\n",
       "             '常营': ['黄渠', '草房'],\n",
       "             '草房': ['常营', '物资学院路'],\n",
       "             '物资学院路': ['草房', '通州北关'],\n",
       "             '通州北关': ['物资学院路', '通运门'],\n",
       "             '通运门': ['通州北关', '北运河西'],\n",
       "             '北运河西': ['通运门', '北运河东'],\n",
       "             '北运河东': ['北运河西', '郝家府'],\n",
       "             '郝家府': ['北运河东', '东夏园'],\n",
       "             '东夏园': ['郝家府', '潞城'],\n",
       "             '潞城': ['东夏园'],\n",
       "             '北京西站': ['湾子', '军事博物馆', '六里桥东'],\n",
       "             '湾子': ['北京西站', '达官营'],\n",
       "             '达官营': ['湾子', '广安门内'],\n",
       "             '广安门内': ['达官营', '菜市口'],\n",
       "             '虎坊桥': ['菜市口', '珠市口'],\n",
       "             '珠市口': ['虎坊桥', '桥湾'],\n",
       "             '桥湾': ['珠市口', '磁器口'],\n",
       "             '广渠门内': ['磁器口', '广渠门外'],\n",
       "             '广渠门外': ['广渠门内', '双井'],\n",
       "             '双井': ['广渠门外', '九龙山', '国贸', '劲松'],\n",
       "             '九龙山': ['双井', '大郊亭', '平乐园', '大望路'],\n",
       "             '大郊亭': ['九龙山', '百子湾'],\n",
       "             '百子湾': ['大郊亭', '化工'],\n",
       "             '化工': ['百子湾', '南楼梓庄'],\n",
       "             '南楼梓庄': ['化工', '欢乐谷景区'],\n",
       "             '欢乐谷景区': ['南楼梓庄', '垡头'],\n",
       "             '垡头': ['欢乐谷景区', '双合'],\n",
       "             '双合': ['垡头', '焦化厂'],\n",
       "             '焦化厂': ['双合'],\n",
       "             '朱辛庄': ['育知路', '巩华城', '生命科学园'],\n",
       "             '育知路': ['朱辛庄', '平西府'],\n",
       "             '平西府': ['育知路', '回龙观东大街'],\n",
       "             '回龙观东大街': ['平西府', '霍营'],\n",
       "             '霍营': ['回龙观东大街', '育新', '回龙观', '立水桥'],\n",
       "             '育新': ['霍营', '西小口'],\n",
       "             '西小口': ['育新', '永泰庄'],\n",
       "             '永泰庄': ['西小口', '林萃桥'],\n",
       "             '林萃桥': ['永泰庄', '森林公园南门'],\n",
       "             '森林公园南门': ['林萃桥', '奥林匹克公园'],\n",
       "             '奥林匹克公园': ['森林公园南门', '奥体中心', '北沙滩', '安立路'],\n",
       "             '奥体中心': ['奥林匹克公园', '北土城'],\n",
       "             '北土城': ['奥体中心', '安华桥', '健德门', '安贞门'],\n",
       "             '安华桥': ['北土城', '安德里北街'],\n",
       "             '安德里北街': ['安华桥', '鼓楼大街'],\n",
       "             '什刹海': ['鼓楼大街', '南锣鼓巷'],\n",
       "             '白堆子': ['白石桥南', '军事博物馆'],\n",
       "             '六里桥东': ['北京西站', '六里桥'],\n",
       "             '六里桥': ['六里桥东', '七里庄', '西局', '莲花桥'],\n",
       "             '七里庄': ['六里桥', '丰台东大街', '大井', '西局'],\n",
       "             '丰台东大街': ['七里庄', '丰台南路'],\n",
       "             '丰台南路': ['丰台东大街', '科怡路'],\n",
       "             '科怡路': ['丰台南路', '丰台科技园'],\n",
       "             '丰台科技园': ['科怡路', '郭公庄'],\n",
       "             '郭公庄': ['丰台科技园', '大葆台'],\n",
       "             '巴沟': ['苏州街', '火器营'],\n",
       "             '苏州街': ['巴沟', '海淀黄庄'],\n",
       "             '知春里': ['海淀黄庄', '知春路'],\n",
       "             '知春路': ['知春里', '西土城', '大钟寺', '五道口'],\n",
       "             '西土城': ['知春路', '牡丹园'],\n",
       "             '牡丹园': ['西土城', '健德门'],\n",
       "             '健德门': ['牡丹园', '北土城'],\n",
       "             '安贞门': ['北土城', '惠新西街南口'],\n",
       "             '芍药居': ['惠新西街南口', '太阳宫', '望京西', '光熙门'],\n",
       "             '太阳宫': ['芍药居', '三元桥'],\n",
       "             '三元桥': ['太阳宫', '亮马桥', '东直门', 'T3航站楼', 'T2航站楼'],\n",
       "             '亮马桥': ['三元桥', '农业展览馆'],\n",
       "             '农业展览馆': ['亮马桥', '团结湖'],\n",
       "             '团结湖': ['农业展览馆', '呼家楼'],\n",
       "             '金台夕照': ['呼家楼', '国贸'],\n",
       "             '劲松': ['双井', '潘家园'],\n",
       "             '潘家园': ['劲松', '十里河'],\n",
       "             '十里河': ['潘家园', '分钟寺', '方庄', '南八里庄'],\n",
       "             '分钟寺': ['十里河', '成寿寺'],\n",
       "             '成寿寺': ['分钟寺', '宋家庄'],\n",
       "             '石榴庄': ['宋家庄', '大红门'],\n",
       "             '大红门': ['石榴庄', '角门东'],\n",
       "             '角门东': ['大红门', '角门西'],\n",
       "             '草桥': ['角门西', '纪家庙'],\n",
       "             '纪家庙': ['草桥', '首经贸'],\n",
       "             '首经贸': ['纪家庙', '丰台站'],\n",
       "             '丰台站': ['首经贸', '泥洼'],\n",
       "             '泥洼': ['丰台站', '西局'],\n",
       "             '西局': ['泥洼', '六里桥', '七里庄'],\n",
       "             '莲花桥': ['六里桥', '公主坟'],\n",
       "             '西钓鱼台': ['公主坟', '慈寿寺'],\n",
       "             '车道沟': ['慈寿寺', '长春桥'],\n",
       "             '长春桥': ['车道沟', '火器营'],\n",
       "             '火器营': ['长春桥', '巴沟'],\n",
       "             '大钟寺': ['西直门', '知春路'],\n",
       "             '五道口': ['知春路', '上地'],\n",
       "             '上地': ['五道口', '西二旗'],\n",
       "             '西二旗': ['上地', '龙泽', '生命科学园'],\n",
       "             '龙泽': ['西二旗', '回龙观'],\n",
       "             '回龙观': ['龙泽', '霍营'],\n",
       "             '北苑': ['立水桥', '望京西'],\n",
       "             '望京西': ['北苑', '芍药居', '关庄', '望京'],\n",
       "             '光熙门': ['芍药居', '柳芳'],\n",
       "             '柳芳': ['光熙门', '东直门'],\n",
       "             '张郭庄': ['园博园'],\n",
       "             '园博园': ['张郭庄', '大瓦窑'],\n",
       "             '大瓦窑': ['园博园', '郭庄子'],\n",
       "             '郭庄子': ['大瓦窑', '大井'],\n",
       "             '大井': ['郭庄子', '七里庄'],\n",
       "             '陶然桥': ['北京南站', '永定门外'],\n",
       "             '永定门外': ['陶然桥', '景泰'],\n",
       "             '景泰': ['永定门外', '蒲黄榆'],\n",
       "             '方庄': ['蒲黄榆', '十里河'],\n",
       "             '南八里庄': ['十里河', '北工大西门'],\n",
       "             '北工大西门': ['南八里庄', '平乐园'],\n",
       "             '平乐园': ['北工大西门', '九龙山'],\n",
       "             '红庙': ['大望路', '金台路'],\n",
       "             '朝阳公园': ['金台路', '枣营'],\n",
       "             '枣营': ['朝阳公园', '东风北桥'],\n",
       "             '东风北桥': ['枣营', '将台'],\n",
       "             '将台': ['东风北桥', '高家园'],\n",
       "             '高家园': ['将台', '望京南'],\n",
       "             '望京南': ['高家园', '阜通'],\n",
       "             '阜通': ['望京南', '望京'],\n",
       "             '望京': ['阜通', '东湖渠', '望京西', '望京东'],\n",
       "             '东湖渠': ['望京', '来广营'],\n",
       "             '来广营': ['东湖渠', '善各庄'],\n",
       "             '善各庄': ['来广营'],\n",
       "             '清华东路西口': ['六道口'],\n",
       "             '六道口': ['清华东路西口', '北沙滩'],\n",
       "             '北沙滩': ['六道口', '奥林匹克公园'],\n",
       "             '安立路': ['奥林匹克公园', '大屯路东'],\n",
       "             '关庄': ['大屯路东', '望京西'],\n",
       "             '望京东': ['望京', '崔各庄'],\n",
       "             '崔各庄': ['望京东', '马泉营'],\n",
       "             '马泉营': ['崔各庄', '孙河'],\n",
       "             '孙河': ['马泉营', '国展'],\n",
       "             '国展': ['孙河', '花梨坎'],\n",
       "             '花梨坎': ['国展', '后沙峪'],\n",
       "             '后沙峪': ['花梨坎', '南法信'],\n",
       "             '南法信': ['后沙峪', '石门'],\n",
       "             '石门': ['南法信', '顺义'],\n",
       "             '顺义': ['石门', '俸伯'],\n",
       "             '俸伯': ['顺义'],\n",
       "             '高碑店': ['四惠东', '传媒大学'],\n",
       "             '传媒大学': ['高碑店', '双桥'],\n",
       "             '双桥': ['传媒大学', '管庄'],\n",
       "             '管庄': ['双桥', '八里桥'],\n",
       "             '八里桥': ['管庄', '通州北苑'],\n",
       "             '通州北苑': ['八里桥', '果园'],\n",
       "             '果园': ['通州北苑', '九棵树'],\n",
       "             '九棵树': ['果园', '梨园'],\n",
       "             '梨园': ['九棵树', '临河里'],\n",
       "             '临河里': ['梨园', '土桥'],\n",
       "             '土桥': ['临河里'],\n",
       "             '昌平西山口': ['十三陵景区'],\n",
       "             '十三陵景区': ['昌平西山口', '昌平'],\n",
       "             '昌平': ['十三陵景区', '昌平东关'],\n",
       "             '昌平东关': ['昌平', '北邵洼'],\n",
       "             '北邵洼': ['昌平东关', '南邵'],\n",
       "             '南邵': ['北邵洼', '沙河高教园'],\n",
       "             '沙河高教园': ['南邵', '沙河'],\n",
       "             '沙河': ['沙河高教园', '巩华城'],\n",
       "             '巩华城': ['沙河', '朱辛庄'],\n",
       "             '生命科学园': ['朱辛庄', '西二旗'],\n",
       "             '肖村': ['宋家庄', '小红门'],\n",
       "             '小红门': ['肖村', '旧宫'],\n",
       "             '旧宫': ['小红门', '亦庄桥'],\n",
       "             '亦庄桥': ['旧宫', '亦庄文化园'],\n",
       "             '亦庄文化园': ['亦庄桥', '万源街'],\n",
       "             '万源街': ['亦庄文化园', '荣京东街'],\n",
       "             '荣京东街': ['万源街', '荣昌东街'],\n",
       "             '荣昌东街': ['荣京东街', '同济南路'],\n",
       "             '同济南路': ['荣昌东街', '经海路'],\n",
       "             '经海路': ['同济南路', '次渠南'],\n",
       "             '次渠南': ['经海路', '次渠'],\n",
       "             '次渠': ['次渠南'],\n",
       "             '新宫': ['公益西桥', '西红门'],\n",
       "             '西红门': ['新宫', '高米店北'],\n",
       "             '高米店北': ['西红门', '高米店南'],\n",
       "             '高米店南': ['高米店北', '枣园'],\n",
       "             '枣园': ['高米店南', '清源路'],\n",
       "             '清源路': ['枣园', '黄村西大街'],\n",
       "             '黄村西大街': ['清源路', '黄村火车站'],\n",
       "             '黄村火车站': ['黄村西大街', '义和庄'],\n",
       "             '义和庄': ['黄村火车站', '生物医药基地'],\n",
       "             '生物医药基地': ['义和庄', '天宫院'],\n",
       "             '天宫院': ['生物医药基地'],\n",
       "             '大葆台': ['郭公庄', '稻田'],\n",
       "             '稻田': ['大葆台', '长阳'],\n",
       "             '长阳': ['稻田', '篱笆房'],\n",
       "             '篱笆房': ['长阳', '广阳城'],\n",
       "             '广阳城': ['篱笆房', '良乡大学城北'],\n",
       "             '良乡大学城北': ['广阳城', '良乡大学城'],\n",
       "             '良乡大学城': ['良乡大学城北', '良乡大学城西'],\n",
       "             '良乡大学城西': ['良乡大学城', '良乡南关'],\n",
       "             '良乡南关': ['良乡大学城西', '苏庄'],\n",
       "             '苏庄': ['良乡南关'],\n",
       "             'T3航站楼': ['三元桥', 'T2航站楼'],\n",
       "             'T2航站楼': ['T3航站楼', '三元桥']})"
      ]
     },
     "execution_count": 36,
     "metadata": {},
     "output_type": "execute_result"
    }
   ],
   "source": [
    "station_connection"
   ]
  },
  {
   "cell_type": "markdown",
   "metadata": {},
   "source": [
    "##### 3. Build the search agent\n",
    "\n",
    "> Build the search agent based on the graph we build.\n",
    "\n",
    "for example, when you run: \n",
    "\n",
    "```python\n",
    ">>> search('奥体中心', '天安门') \n",
    "```\n",
    "you need get the result: \n",
    "\n",
    "奥体中心-> A -> B -> C -> ... -> 天安门\n",
    "\n"
   ]
  },
  {
   "cell_type": "code",
   "execution_count": 61,
   "metadata": {},
   "outputs": [],
   "source": [
    "# 广度优先搜索，返回最少站点的路线\n",
    "def search(start, destination, graph):\n",
    "    pathes = [[start]]\n",
    "    visited = set()\n",
    "    \n",
    "    while pathes:\n",
    "        path = pathes.pop()\n",
    "        frontier = path[-1]\n",
    "        \n",
    "        if frontier in visited: continue\n",
    "            \n",
    "        successors = graph[frontier]\n",
    "        \n",
    "        for successor in successors:\n",
    "            if successor in visited: continue\n",
    "                \n",
    "            new_path = path + [successor]\n",
    "            pathes.append(new_path)\n",
    "            \n",
    "            if successor == destination: \n",
    "                return '->'.join(new_path)\n",
    "        \n",
    "        visited.add(frontier)"
   ]
  },
  {
   "cell_type": "code",
   "execution_count": 62,
   "metadata": {},
   "outputs": [
    {
     "data": {
      "text/plain": [
       "'苹果园->古城->八角游乐园->八宝山->玉泉路->五棵松->万寿路'"
      ]
     },
     "execution_count": 62,
     "metadata": {},
     "output_type": "execute_result"
    }
   ],
   "source": [
    "search('苹果园', '万寿路', station_connection)"
   ]
  },
  {
   "cell_type": "markdown",
   "metadata": {},
   "source": [
    "## （Optional）Create different policies for transfer system.\n"
   ]
  },
  {
   "cell_type": "markdown",
   "metadata": {},
   "source": [
    "以下部门为可选部分，请酌情完成。 并不要求全部同学完成。"
   ]
  },
  {
   "cell_type": "markdown",
   "metadata": {},
   "source": [
    "As much as you can to use the already implemented search agent. You just need to define the **is_goal()**, **get_successor()**, **strategy()** three functions. \n",
    "\n",
    "> a.\tDefine different policies for transfer system. \n",
    "\n",
    "> b.\tSuch as Shortest Path Priority（路程最短优先）, Minimum Transfer Priority(最少换乘优先), Comprehensive Priority(综合优先)\n",
    "\n",
    "> c.\tImplement Continuous transfer. Based on the Agent you implemented, please add this feature: Besides the @param start and @param destination two stations, add some more stations, we called @param by_way, it means, our path should from the start and end, but also include the  @param by_way stations. \n",
    "\n",
    "e.g \n",
    "```\n",
    "1. Input:  start=A,  destination=B, by_way=[C] \n",
    "    Output: [A, … .., C, …. B]\n",
    "2. Input: start=A, destination=B, by_way=[C, D, E]\n",
    "    Output: [A … C … E … D … B]  \n",
    "    # based on your policy, the E station could be reached firstly. \n",
    "![image.png](attachment:image.png)\n",
    "```"
   ]
  },
  {
   "cell_type": "markdown",
   "metadata": {},
   "source": [
    "##### 5.\tTest your result with commercial applications. \n",
    "\n",
    "将你的结果和高德地图或者百度地图进行比较，如果有不同，请分析原因\n"
   ]
  },
  {
   "cell_type": "markdown",
   "metadata": {},
   "source": [
    "恭喜，完成本次课程，你对常用的人工智能方法以及有一定的了解了。基于规则的，基于概率模型的，基于搜索的，基于机器学习的。 可以说，我们现在通常见到的方法都能够归属到这几类方法中。 这就是**人工智能**，并没有很难是吧？ 继续加油！"
   ]
  },
  {
   "cell_type": "markdown",
   "metadata": {},
   "source": [
    "![](https://timgsa.baidu.com/timg?image&quality=80&size=b9999_10000&sec=1562415163815&di=4b29a2a863a8285212033760f288ed7a&imgtype=0&src=http%3A%2F%2F5b0988e595225.cdn.sohucs.com%2Fimages%2F20180710%2F8704194a1d7f46a383ddc29d40c9bca5.jpeg)"
   ]
  }
 ],
 "metadata": {
  "kernelspec": {
   "display_name": "Python 3",
   "language": "python",
   "name": "python3"
  },
  "language_info": {
   "codemirror_mode": {
    "name": "ipython",
    "version": 3
   },
   "file_extension": ".py",
   "mimetype": "text/x-python",
   "name": "python",
   "nbconvert_exporter": "python",
   "pygments_lexer": "ipython3",
   "version": "3.7.1"
  }
 },
 "nbformat": 4,
 "nbformat_minor": 2
}
