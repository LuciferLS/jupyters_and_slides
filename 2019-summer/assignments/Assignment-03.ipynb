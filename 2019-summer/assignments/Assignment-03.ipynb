{
 "cells": [
  {
   "cell_type": "markdown",
   "metadata": {},
   "source": [
    "## Lecture-03 Gradient Descent and Dymanic Programming"
   ]
  },
  {
   "cell_type": "markdown",
   "metadata": {},
   "source": [
    "In this week, we need complete following tasks:\n",
    "+ Re-review the course online programming; \n",
    "+ Choose 1 - 2 books which you interested and keep reading; \n",
    "+ Answer the review questions\n",
    "+ Prepare the basic requirement of our 1st project. "
   ]
  },
  {
   "cell_type": "markdown",
   "metadata": {},
   "source": [
    "### Part I Review the online programming. "
   ]
  },
  {
   "cell_type": "markdown",
   "metadata": {},
   "source": [
    "### Part 2: change loss function from $loss = \\frac{1}{n}\\sum{(y_i - \\hat(y_i))^2}$ to $loss = \\frac{1}{n}\\sum{|y_i - \\hat{y_i}|}$, and using your mathmatical knowledge to get the right partial formual. Implemen the gradient descent code."
   ]
  },
  {
   "cell_type": "code",
   "execution_count": 22,
   "metadata": {},
   "outputs": [
    {
     "name": "stdout",
     "output_type": "stream",
     "text": [
      "Collecting icecream\n",
      "  Downloading https://files.pythonhosted.org/packages/b7/24/ae67a8e73d14f8605ace8730bcbe13eab4ceae73eaaa82a910a17956d3e2/icecream-1.5.0-py2.py3-none-any.whl\n",
      "Requirement already satisfied: pygments>=2.2.0 in c:\\users\\huoyi\\anaconda3\\lib\\site-packages (from icecream) (2.3.1)\n",
      "Collecting untokenize>=0.1.1 (from icecream)\n",
      "  Downloading https://files.pythonhosted.org/packages/f7/46/e7cea8159199096e1df52da20a57a6665da80c37fb8aeb848a3e47442c32/untokenize-0.1.1.tar.gz\n",
      "Requirement already satisfied: colorama>=0.3.9 in c:\\users\\huoyi\\anaconda3\\lib\\site-packages (from icecream) (0.4.1)\n",
      "Building wheels for collected packages: untokenize\n",
      "  Running setup.py bdist_wheel for untokenize: started\n",
      "  Running setup.py bdist_wheel for untokenize: finished with status 'done'\n",
      "  Stored in directory: C:\\Users\\huoyi\\AppData\\Local\\pip\\Cache\\wheels\\f4\\a0\\63\\012f35213063bcd1d92a1bb5f4a570fec73e2a0a335a9a7295\n",
      "Successfully built untokenize\n",
      "Installing collected packages: untokenize, icecream\n",
      "Successfully installed icecream-1.5.0 untokenize-0.1.1\n"
     ]
    }
   ],
   "source": [
    "!pip install icecream"
   ]
  },
  {
   "cell_type": "code",
   "execution_count": 3,
   "metadata": {},
   "outputs": [],
   "source": [
    "from sklearn.datasets import load_boston\n",
    "import matplotlib.pyplot as plt"
   ]
  },
  {
   "cell_type": "code",
   "execution_count": 2,
   "metadata": {},
   "outputs": [],
   "source": [
    "data = load_boston()"
   ]
  },
  {
   "cell_type": "code",
   "execution_count": 44,
   "metadata": {},
   "outputs": [],
   "source": [
    "rm = data['data'][:, 5]\n",
    "price = data['target']"
   ]
  },
  {
   "cell_type": "code",
   "execution_count": 38,
   "metadata": {},
   "outputs": [],
   "source": [
    "def draw_rm_and_price(room, pri):\n",
    "    plt.scatter(room, pri)"
   ]
  },
  {
   "cell_type": "code",
   "execution_count": 39,
   "metadata": {
    "scrolled": true
   },
   "outputs": [
    {
     "data": {
      "image/png": "[encoded data removed]",
      "text/plain": [
       "<Figure size 432x288 with 1 Axes>"
      ]
     },
     "metadata": {
      "needs_background": "light"
     },
     "output_type": "display_data"
    }
   ],
   "source": [
    "draw_rm_and_price(rm, price)"
   ]
  },
  {
   "cell_type": "code",
   "execution_count": 40,
   "metadata": {},
   "outputs": [],
   "source": [
    "import random\n",
    "import math"
   ]
  },
  {
   "cell_type": "code",
   "execution_count": 46,
   "metadata": {},
   "outputs": [],
   "source": [
    "def predicted_price(rm, k, b):\n",
    "    return k * rm + b\n",
    "\n",
    "def loss(y, y_hat):\n",
    "    return sum(abs(y_i - y_hat_i) for y_i, y_hat_i in zip(list(y), list(y_hat))) / len(list(y))\n",
    "\n",
    "def partial_k(x, y, y_hat):\n",
    "    n = len(y)\n",
    "\n",
    "    gradient = 0\n",
    "    \n",
    "    for x_i, y_i, y_hat_i in zip(list(x), list(y), list(y_hat)):\n",
    "        if y_i > y_hat_i:\n",
    "            gradient -= x_i\n",
    "        \n",
    "        elif y_i < y_hat_i:\n",
    "            gradient += x_i\n",
    "        \n",
    "    \n",
    "    return 1 / n * gradient\n",
    "\n",
    "\n",
    "def partial_b(x, y, y_hat):\n",
    "    n = len(y)\n",
    "\n",
    "    gradient = 0\n",
    "    \n",
    "    for x_i, y_i, y_hat_i in zip(list(x), list(y), list(y_hat)):\n",
    "        if y_i > y_hat_i:\n",
    "            gradient -= 1\n",
    "        \n",
    "        elif y_i < y_hat_i:\n",
    "            gradient += 1\n",
    "        \n",
    "    \n",
    "    return 1 / n * gradient"
   ]
  },
  {
   "cell_type": "code",
   "execution_count": 48,
   "metadata": {},
   "outputs": [
    {
     "name": "stdout",
     "output_type": "stream",
     "text": [
      "When time is : 0, get best_k: 6.5358257102296164 best_b: 52.81353539451521, and the loss is: 71.35600407865151\n",
      "When time is : 50, get best_k: 6.5044025382928545 best_b: 52.80853539451505, and the loss is: 71.15352093173789\n",
      "When time is : 100, get best_k: 6.472979366356093 best_b: 52.80353539451488, and the loss is: 70.95103778482425\n",
      "When time is : 150, get best_k: 6.441556194419331 best_b: 52.798535394514715, and the loss is: 70.74855463791057\n",
      "When time is : 200, get best_k: 6.410133022482569 best_b: 52.79353539451455, and the loss is: 70.54607149099702\n",
      "When time is : 250, get best_k: 6.378709850545807 best_b: 52.78853539451438, and the loss is: 70.34358834408349\n",
      "When time is : 300, get best_k: 6.347286678609045 best_b: 52.78353539451422, and the loss is: 70.14110519716978\n",
      "When time is : 350, get best_k: 6.315863506672283 best_b: 52.77853539451405, and the loss is: 69.93862205025613\n",
      "When time is : 400, get best_k: 6.284440334735521 best_b: 52.773535394513885, and the loss is: 69.73613890334255\n",
      "When time is : 450, get best_k: 6.253017162798759 best_b: 52.76853539451372, and the loss is: 69.533655756429\n",
      "When time is : 500, get best_k: 6.221593990861997 best_b: 52.76353539451355, and the loss is: 69.33117260951545\n",
      "When time is : 550, get best_k: 6.190170818925235 best_b: 52.75853539451339, and the loss is: 69.12868946260176\n",
      "When time is : 600, get best_k: 6.158747646988473 best_b: 52.75353539451322, and the loss is: 68.9262063156882\n",
      "When time is : 650, get best_k: 6.1273244750517115 best_b: 52.748535394513056, and the loss is: 68.72372316877455\n",
      "When time is : 700, get best_k: 6.09590130311495 best_b: 52.74353539451289, and the loss is: 68.521240021861\n",
      "When time is : 750, get best_k: 6.064478131178188 best_b: 52.73853539451272, and the loss is: 68.31875687494738\n",
      "When time is : 800, get best_k: 6.033054959241426 best_b: 52.73353539451256, and the loss is: 68.11627372803366\n",
      "When time is : 850, get best_k: 6.001631787304664 best_b: 52.72853539451239, and the loss is: 67.91379058112015\n",
      "When time is : 900, get best_k: 5.970208615367902 best_b: 52.723535394512226, and the loss is: 67.71130743420657\n",
      "When time is : 950, get best_k: 5.93878544343114 best_b: 52.71853539451206, and the loss is: 67.50882428729291\n",
      "When time is : 1000, get best_k: 5.907362271494378 best_b: 52.713535394511894, and the loss is: 67.30634114037925\n",
      "When time is : 1050, get best_k: 5.875939099557616 best_b: 52.70853539451173, and the loss is: 67.10385799346564\n",
      "When time is : 1100, get best_k: 5.844515927620854 best_b: 52.70353539451156, and the loss is: 66.90137484655206\n",
      "When time is : 1150, get best_k: 5.813092755684092 best_b: 52.698535394511396, and the loss is: 66.69889169963848\n",
      "When time is : 1200, get best_k: 5.78166958374733 best_b: 52.69353539451123, and the loss is: 66.49640855272486\n",
      "When time is : 1250, get best_k: 5.7502464118105685 best_b: 52.688535394511064, and the loss is: 66.29392540581125\n",
      "When time is : 1300, get best_k: 5.718823239873807 best_b: 52.6835353945109, and the loss is: 66.0914422588977\n",
      "When time is : 1350, get best_k: 5.687400067937045 best_b: 52.67853539451073, and the loss is: 65.88895911198415\n",
      "When time is : 1400, get best_k: 5.655976896000283 best_b: 52.673535394510566, and the loss is: 65.68647596507041\n",
      "When time is : 1450, get best_k: 5.624553724063521 best_b: 52.6685353945104, and the loss is: 65.48399281815684\n",
      "When time is : 1500, get best_k: 5.593130552126759 best_b: 52.663535394510234, and the loss is: 65.28150967124321\n",
      "When time is : 1550, get best_k: 5.561707380189997 best_b: 52.65853539451007, and the loss is: 65.07902652432959\n",
      "When time is : 1600, get best_k: 5.530284208253235 best_b: 52.6535353945099, and the loss is: 64.876543377416\n",
      "When time is : 1650, get best_k: 5.498861036316473 best_b: 52.648535394509736, and the loss is: 64.67406023050242\n",
      "When time is : 1700, get best_k: 5.467437864379711 best_b: 52.64353539450957, and the loss is: 64.47157708358878\n",
      "When time is : 1750, get best_k: 5.436014692442949 best_b: 52.638535394509404, and the loss is: 64.2690939366752\n",
      "When time is : 1800, get best_k: 5.404591520506187 best_b: 52.63353539450924, and the loss is: 64.06661078976163\n",
      "When time is : 1850, get best_k: 5.3731683485694255 best_b: 52.62853539450907, and the loss is: 63.86412764284794\n",
      "When time is : 1900, get best_k: 5.341745176632664 best_b: 52.623535394508906, and the loss is: 63.66164449593441\n",
      "When time is : 1950, get best_k: 5.310322004695902 best_b: 52.61853539450874, and the loss is: 63.45916134902079\n"
     ]
    }
   ],
   "source": [
    "trying_times = 2000\n",
    "\n",
    "min_loss = float('inf') \n",
    "\n",
    "current_k = random.random() * 200 - 100\n",
    "current_b = random.random() * 200 - 100\n",
    "\n",
    "learning_rate = 1e-04\n",
    "\n",
    "\n",
    "update_time = 0\n",
    "\n",
    "for i in range(trying_times):\n",
    "    \n",
    "    price_by_k_and_b = [predicted_price(r, current_k, current_b) for r in rm]\n",
    "    \n",
    "    current_loss = loss(price, price_by_k_and_b)\n",
    "\n",
    "    if current_loss < min_loss:\n",
    "        min_loss = current_loss\n",
    "        \n",
    "        if i % 50 == 0: \n",
    "            print('When time is : {}, get best_k: {} best_b: {}, and the loss is: {}'.format(i, current_k, current_b, min_loss))\n",
    "\n",
    "    k_gradient = partial_k(rm, price, price_by_k_and_b)\n",
    "    \n",
    "    b_gradient = partial_b(rm, price, price_by_k_and_b)\n",
    "    \n",
    "    current_k = current_k + (-1 * k_gradient) * learning_rate\n",
    "\n",
    "    current_b = current_b + (-1 * b_gradient) * learning_rate"
   ]
  },
  {
   "cell_type": "markdown",
   "metadata": {},
   "source": [
    "### Part 3: Finish the Solution Parse Part of Edit-Distance"
   ]
  },
  {
   "cell_type": "code",
   "execution_count": 62,
   "metadata": {},
   "outputs": [],
   "source": [
    "solution = {}"
   ]
  },
  {
   "cell_type": "code",
   "execution_count": 52,
   "metadata": {},
   "outputs": [],
   "source": [
    "def edit_distance(string1, string2):\n",
    "    \n",
    "    if len(string1) == 0: return len(string2)\n",
    "    if len(string2) == 0: return len(string1)\n",
    "    \n",
    "    tail_s1 = string1[-1]\n",
    "    tail_s2 = string2[-1]\n",
    "    \n",
    "    candidates = [\n",
    "        (edit_distance(string1[:-1], string2) + 1, 'DEL {}'.format(tail_s1)),  # string 1 delete tail\n",
    "        (edit_distance(string1, string2[:-1]) + 1, 'ADD {}'.format(tail_s2)),  # string 1 add tail of string2\n",
    "    ]\n",
    "    \n",
    "    if tail_s1 == tail_s2:\n",
    "        both_forward = (edit_distance(string1[:-1], string2[:-1]) + 0, '')\n",
    "    else:\n",
    "        both_forward = (edit_distance(string1[:-1], string2[:-1]) + 1, 'SUB {} => {}'.format(tail_s1, tail_s2))\n",
    "\n",
    "    candidates.append(both_forward)\n",
    "    \n",
    "    min_distance, operation = min(candidates, key=lambda x: x[0])\n",
    "    \n",
    "    solution[(string1, string2)] = operation \n",
    "    \n",
    "    return min_distance"
   ]
  },
  {
   "cell_type": "code",
   "execution_count": 64,
   "metadata": {
    "scrolled": true
   },
   "outputs": [
    {
     "data": {
      "text/plain": [
       "2"
      ]
     },
     "execution_count": 64,
     "metadata": {},
     "output_type": "execute_result"
    }
   ],
   "source": [
    "edit_distance('CGGAA', 'CGGGF')"
   ]
  },
  {
   "cell_type": "code",
   "execution_count": 74,
   "metadata": {},
   "outputs": [
    {
     "data": {
      "text/plain": [
       "{('C', 'C'): '',\n",
       " ('C', 'CG'): 'ADD G',\n",
       " ('C', 'CGG'): 'ADD G',\n",
       " ('C', 'CGGG'): 'ADD G',\n",
       " ('C', 'CGGGF'): 'ADD F',\n",
       " ('CG', 'C'): 'DEL G',\n",
       " ('CG', 'CG'): '',\n",
       " ('CG', 'CGG'): 'ADD G',\n",
       " ('CG', 'CGGG'): 'ADD G',\n",
       " ('CG', 'CGGGF'): 'ADD F',\n",
       " ('CGG', 'C'): 'DEL G',\n",
       " ('CGG', 'CG'): 'DEL G',\n",
       " ('CGG', 'CGG'): '',\n",
       " ('CGG', 'CGGG'): 'ADD G',\n",
       " ('CGG', 'CGGGF'): 'ADD F',\n",
       " ('CGGA', 'C'): 'DEL A',\n",
       " ('CGGA', 'CG'): 'DEL A',\n",
       " ('CGGA', 'CGG'): 'DEL A',\n",
       " ('CGGA', 'CGGG'): 'SUB A => G',\n",
       " ('CGGA', 'CGGGF'): 'ADD F',\n",
       " ('CGGAA', 'C'): 'DEL A',\n",
       " ('CGGAA', 'CG'): 'DEL A',\n",
       " ('CGGAA', 'CGG'): 'DEL A',\n",
       " ('CGGAA', 'CGGG'): 'DEL A',\n",
       " ('CGGAA', 'CGGGF'): 'SUB A => F'}"
      ]
     },
     "execution_count": 74,
     "metadata": {},
     "output_type": "execute_result"
    }
   ],
   "source": [
    "solution"
   ]
  },
  {
   "cell_type": "code",
   "execution_count": 68,
   "metadata": {},
   "outputs": [
    {
     "data": {
      "text/plain": [
       "'ADD G'"
      ]
     },
     "execution_count": 68,
     "metadata": {},
     "output_type": "execute_result"
    }
   ],
   "source": [
    "solution['C', 'CG']"
   ]
  },
  {
   "cell_type": "code",
   "execution_count": 77,
   "metadata": {},
   "outputs": [],
   "source": [
    "def parse_solution(string1, string2, revenue_solution, distance):\n",
    "    if distance == 0: return []\n",
    "    \n",
    "    else:\n",
    "        operation = solution[string1, string2]\n",
    "\n",
    "        if 'SUB' in operation:\n",
    "            return parse_solution(string1[:-1], string2[:-1], revenue_solution, distance - 1) + [operation]\n",
    "        \n",
    "        elif 'ADD' in operation:\n",
    "            return parse_solution(string1, string2[:-1], revenue_solution, distance - 1) + [operation]\n",
    "        \n",
    "        elif 'DEL' in operation:\n",
    "            return parse_solution(string1[:-1], string2, revenue_solution, distance - 1) + [operation]"
   ]
  },
  {
   "cell_type": "code",
   "execution_count": 78,
   "metadata": {},
   "outputs": [
    {
     "data": {
      "text/plain": [
       "['SUB A => G', 'SUB A => F']"
      ]
     },
     "execution_count": 78,
     "metadata": {},
     "output_type": "execute_result"
    }
   ],
   "source": [
    "parse_solution('CGGAA', 'CGGGF', solution, 2)"
   ]
  },
  {
   "cell_type": "markdown",
   "metadata": {},
   "source": [
    "### Part 4 Choose 1 - 2 books to keep reading: \n",
    "\n",
    "+ SICP, Structure and Interpretation of Computer Programming. \n",
    "+ Introduction to Algorithms \n",
    "+ Artificial Intelligence A Modern Approach (3rd Edition) \n",
    "+ Code Complete 2 \n",
    "+ Programming Pearls \n",
    "+ Deep Learning\n",
    "+ 黑客与画家\n",
    "+ 数学之美\n",
    "+ Fluent Python\n",
    "+ Hands on Tensorflow\n",
    "+ Conference: NIPS_ ICML_ ICLR_ ACL_ AAAI\n",
    "\n",
    "> most books you may find in our github: https://github.com/Computing-Intelligence/References"
   ]
  },
  {
   "cell_type": "markdown",
   "metadata": {},
   "source": [
    "## Part 5-1: review machine learning"
   ]
  },
  {
   "cell_type": "markdown",
   "metadata": {},
   "source": [
    "1. Why do we use Derivative / Gredient to fit a target function?¶"
   ]
  },
  {
   "cell_type": "markdown",
   "metadata": {},
   "source": [
    "Ans:根据梯度可以预测函数变化值，从而得知该值是增加还是减少"
   ]
  },
  {
   "cell_type": "markdown",
   "metadata": {},
   "source": [
    "2. In the words 'Gredient Descent', what's the Gredient and what's the Descent?¶"
   ]
  },
  {
   "cell_type": "markdown",
   "metadata": {},
   "source": [
    "Ans:梯度是损失函数中导数的组合，下降则是让该导数组合变小"
   ]
  },
  {
   "cell_type": "markdown",
   "metadata": {},
   "source": [
    "\n",
    "3. What's the advantages of the 3rd gradient descent method compared to the previous methods?"
   ]
  },
  {
   "cell_type": "markdown",
   "metadata": {},
   "source": [
    "Ans:可以正确预测减少损失的方向"
   ]
  },
  {
   "cell_type": "markdown",
   "metadata": {},
   "source": [
    "4. Using the simple words to describe: What's the machine leanring.¶"
   ]
  },
  {
   "cell_type": "markdown",
   "metadata": {},
   "source": [
    "Ans:让机器根据给定的学习模型通过数据自我生成目标函数"
   ]
  },
  {
   "cell_type": "markdown",
   "metadata": {},
   "source": [
    "### Part 5: Answer following questions: "
   ]
  },
  {
   "cell_type": "markdown",
   "metadata": {},
   "source": [
    "1. Why do we need dynamic programming? What's the difference of dynamic programming and previous talked `search` problme? "
   ]
  },
  {
   "cell_type": "code",
   "execution_count": null,
   "metadata": {},
   "outputs": [],
   "source": [
    "可以将问题分解逐步解答并保存每步答案。搜索问题主要用于寻找特殊路径"
   ]
  },
  {
   "cell_type": "markdown",
   "metadata": {},
   "source": [
    "2. Why do we still need dynamic programming? Why not we train a machine learning to fit a function which could get the `right` answer based on inputs?"
   ]
  },
  {
   "cell_type": "code",
   "execution_count": null,
   "metadata": {},
   "outputs": [],
   "source": [
    "动态规划与机器学习并不冲突，动态规划可以理解为一种思路，而机器学习可能会用到这种思路。"
   ]
  },
  {
   "cell_type": "markdown",
   "metadata": {},
   "source": [
    "3. Can you catch up at least 3 problems which could solved by Dynamic Programming? "
   ]
  },
  {
   "cell_type": "code",
   "execution_count": null,
   "metadata": {},
   "outputs": [],
   "source": [
    "编辑距离，铺瓷砖，硬币找零"
   ]
  },
  {
   "cell_type": "markdown",
   "metadata": {},
   "source": [
    "4. Can you catch up at least 3 problems wich could sloved by Edit Distance? "
   ]
  },
  {
   "cell_type": "code",
   "execution_count": null,
   "metadata": {},
   "outputs": [],
   "source": [
    "文本相似度，错词纠正，基因序列相似度"
   ]
  },
  {
   "cell_type": "markdown",
   "metadata": {},
   "source": [
    "5. Please summarize the three main features of Dynamic Programming, and make a concise explain for each feature. "
   ]
  },
  {
   "cell_type": "code",
   "execution_count": null,
   "metadata": {},
   "outputs": [],
   "source": [
    "无后效性，子问题的解不会更改。分析最优子结构。保存子问题解。"
   ]
  },
  {
   "cell_type": "markdown",
   "metadata": {},
   "source": [
    "6. What's the disadvantages of Dynamic Programming? (You may need search by yourself in Internet)"
   ]
  },
  {
   "cell_type": "code",
   "execution_count": null,
   "metadata": {},
   "outputs": [],
   "source": [
    "没有统一模型？"
   ]
  },
  {
   "cell_type": "markdown",
   "metadata": {},
   "source": [
    "## Part 6 Preparation of Project-01"
   ]
  },
  {
   "cell_type": "markdown",
   "metadata": {},
   "source": [
    "1. Using python Flask or Bottle to finish your first simple web app:\n",
    "> https://bottlepy.org/\n",
    "\n",
    "2. Learn what's the SQL, and try some simple SQL operations:\n",
    "> https://www.w3schools.com/sql/sql_intro.asp\n",
    "\n",
    "3. Learn what's the HTML ( *ONLY* need to know the basic things)\n",
    "> https://getbootstrap.com/; https://www.w3schools.com/html/"
   ]
  },
  {
   "cell_type": "markdown",
   "metadata": {},
   "source": [
    "### (Optinal) Finish the k-person-salesman problem:"
   ]
  },
  {
   "cell_type": "code",
   "execution_count": 7,
   "metadata": {},
   "outputs": [],
   "source": [
    "import random\n",
    "import matplotlib.pylab as plt"
   ]
  },
  {
   "cell_type": "code",
   "execution_count": 8,
   "metadata": {},
   "outputs": [],
   "source": [
    "latitudes = [random.randint(-100, 100) for _ in range(20)]\n",
    "longitude = [random.randint(-100, 100) for _ in range(20)]"
   ]
  },
  {
   "cell_type": "code",
   "execution_count": 9,
   "metadata": {},
   "outputs": [
    {
     "data": {
      "text/plain": [
       "<matplotlib.collections.PathCollection at 0x11da1c588>"
      ]
     },
     "execution_count": 9,
     "metadata": {},
     "output_type": "execute_result"
    },
    {
     "data": {
      "image/png": "[encoded data removed]",
      "text/plain": [
       "<Figure size 432x288 with 1 Axes>"
      ]
     },
     "metadata": {
      "needs_background": "light"
     },
     "output_type": "display_data"
    }
   ],
   "source": [
    "plt.scatter(latitudes, longitude)"
   ]
  },
  {
   "cell_type": "markdown",
   "metadata": {},
   "source": [
    "给定一个初始点 𝑃, 已经 𝑘个车辆，如何从该点出发，经这 k 个车辆经过所以的点全部一次，而且所走过的路程最短?\n",
    "\n",
    "例如："
   ]
  },
  {
   "cell_type": "code",
   "execution_count": 14,
   "metadata": {},
   "outputs": [],
   "source": [
    "chosen_p = (-50, 10)\n",
    "chosen_p2 = (1, 30)\n",
    "chosen_p3 = (99, 15)"
   ]
  },
  {
   "cell_type": "code",
   "execution_count": 4,
   "metadata": {},
   "outputs": [],
   "source": [
    "import matplotlib.pyplot as plt"
   ]
  },
  {
   "cell_type": "code",
   "execution_count": 15,
   "metadata": {
    "scrolled": true
   },
   "outputs": [
    {
     "data": {
      "text/plain": [
       "<matplotlib.collections.PathCollection at 0x11dbbd470>"
      ]
     },
     "execution_count": 15,
     "metadata": {},
     "output_type": "execute_result"
    },
    {
     "data": {
      "image/png": "[encoded data removed]",
      "text/plain": [
       "<Figure size 432x288 with 1 Axes>"
      ]
     },
     "metadata": {
      "needs_background": "light"
     },
     "output_type": "display_data"
    }
   ],
   "source": [
    "plt.scatter(latitudes, longitude)\n",
    "plt.scatter([chosen_p[0]], [chosen_p[1]], color='r')\n",
    "plt.scatter([chosen_p2[0]], [chosen_p2[1]], color='r')\n",
    "plt.scatter([chosen_p3[0]], [chosen_p3[1]], color='r')"
   ]
  },
  {
   "cell_type": "markdown",
   "metadata": {},
   "source": [
    "shuro"
   ]
  }
 ],
 "metadata": {
  "kernelspec": {
   "display_name": "Python 3",
   "language": "python",
   "name": "python3"
  },
  "language_info": {
   "codemirror_mode": {
    "name": "ipython",
    "version": 3
   },
   "file_extension": ".py",
   "mimetype": "text/x-python",
   "name": "python",
   "nbconvert_exporter": "python",
   "pygments_lexer": "ipython3",
   "version": "3.7.1"
  }
 },
 "nbformat": 4,
 "nbformat_minor": 2
}
